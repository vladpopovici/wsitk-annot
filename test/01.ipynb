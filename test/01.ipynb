{
 "cells": [
  {
   "cell_type": "markdown",
   "id": "16d82f4e7ce4e6c0",
   "metadata": {},
   "source": [
    "Tests for Annotation module\n",
    "---"
   ]
  },
  {
   "cell_type": "code",
   "execution_count": 1,
   "id": "f6294d62cd2c4277",
   "metadata": {
    "ExecuteTime": {
     "end_time": "2025-01-16T10:55:14.843622Z",
     "start_time": "2025-01-16T10:55:14.486031Z"
    }
   },
   "outputs": [],
   "source": [
    "import wsitk_annot as ann\n",
    "import pandas as pd\n",
    "import numpy as np\n",
    "import shapely.geometry as shg\n",
    "\n",
    "from wsitk_annot import Annotation"
   ]
  },
  {
   "cell_type": "code",
   "execution_count": 2,
   "id": "6ed71355bea27199",
   "metadata": {
    "ExecuteTime": {
     "end_time": "2025-01-16T10:55:14.853740Z",
     "start_time": "2025-01-16T10:55:14.850079Z"
    }
   },
   "outputs": [],
   "source": [
    "a_dot = ann.createEmptyAnnotationObject('DOT')\n",
    "a_pset = ann.createEmptyAnnotationObject('POINTSET')\n",
    "a_pline = ann.createEmptyAnnotationObject('POLYLINE')\n",
    "a_poly = ann.createEmptyAnnotationObject('POLYGON')\n",
    "a_circ = ann.createEmptyAnnotationObject('CIRCLE')"
   ]
  },
  {
   "cell_type": "code",
   "execution_count": 3,
   "id": "6929ecf0828b8001",
   "metadata": {
    "ExecuteTime": {
     "end_time": "2025-01-16T10:55:15.004362Z",
     "start_time": "2025-01-16T10:55:14.999600Z"
    }
   },
   "outputs": [
    {
     "data": {
      "text/plain": [
       "{'annotation_type': 'DOT',\n",
       " 'name': 'DOT',\n",
       " 'metadata': {'group': ['no_group']},\n",
       " 'data': [],\n",
       " 'geom': 'POINT (0 0)'}"
      ]
     },
     "execution_count": 3,
     "metadata": {},
     "output_type": "execute_result"
    }
   ],
   "source": [
    "a_dot.asdict()"
   ]
  },
  {
   "cell_type": "code",
   "execution_count": 4,
   "id": "bd50e5c237358297",
   "metadata": {
    "ExecuteTime": {
     "end_time": "2025-01-16T10:55:15.049945Z",
     "start_time": "2025-01-16T10:55:15.046286Z"
    }
   },
   "outputs": [
    {
     "data": {
      "text/plain": [
       "array([0.])"
      ]
     },
     "execution_count": 4,
     "metadata": {},
     "output_type": "execute_result"
    }
   ],
   "source": [
    "a_pset.x"
   ]
  },
  {
   "cell_type": "code",
   "execution_count": 5,
   "id": "87982bbc268fd77",
   "metadata": {
    "ExecuteTime": {
     "end_time": "2025-01-16T10:55:15.271019Z",
     "start_time": "2025-01-16T10:55:15.266977Z"
    }
   },
   "outputs": [
    {
     "name": "stdout",
     "output_type": "stream",
     "text": [
      "{'annotation_type': 'DOT', 'name': 'another_dot', 'metadata': {'group': ['some group']}, 'data': [], 'geom': 'POINT (10 20.5)'}\n",
      "{'annotation_type': 'DOT', 'name': 'DOT', 'metadata': {'group': ['no_group']}, 'data': [], 'geom': 'POINT (0 0)'}\n"
     ]
    }
   ],
   "source": [
    "o = ann.Dot((10, 20.5), \"another_dot\", ['some group'])\n",
    "print(o.asdict())\n",
    "o.fromdict(a_dot.asdict())\n",
    "print(o.asdict())"
   ]
  },
  {
   "cell_type": "code",
   "execution_count": 6,
   "id": "a7d4fc1e4a1dd522",
   "metadata": {
    "ExecuteTime": {
     "end_time": "2025-01-16T10:55:15.503988Z",
     "start_time": "2025-01-16T10:55:15.497835Z"
    }
   },
   "outputs": [
    {
     "name": "stdout",
     "output_type": "stream",
     "text": [
      "{'annotation_type': 'POLYGON', 'name': 'poly', 'metadata': {'group': ['no_group']}, 'data': [], 'geom': 'POLYGON ((0 1.5, 2.5 3, 4 6, 0 1.5))'}\n",
      "{\"geometry\": {\"coordinates\": [[[0.0, 1.5], [2.5, 3.0], [4.0, 6.0], [0.0, 1.5]]], \"type\": \"Polygon\"}, \"properties\": {\"annotation_type\": \"POLYGON\", \"data\": [], \"metadata\": {\"group\": [\"no_group\"]}, \"name\": \"poly\", \"object_type\": \"annotation\"}, \"type\": \"Feature\"}\n",
      "{'annotation_type': 'POLYGON', 'name': None, 'metadata': {'group': ['no_group']}, 'data': [], 'geom': 'POLYGON ((0 0, 1 1, 2 2, 0 0))'}\n"
     ]
    }
   ],
   "source": [
    "o = ann.Polygon([[0, 1.5], [2.5, 3.0], [4, 6], [0, 1.5]], \"poly\")\n",
    "print(o.asdict())\n",
    "print(o.asGeoJSON())\n",
    "o.fromdict(a_poly.asdict())\n",
    "print(o.asdict())"
   ]
  },
  {
   "cell_type": "code",
   "execution_count": 7,
   "id": "3d8a03a5efa7359b",
   "metadata": {
    "ExecuteTime": {
     "end_time": "2025-01-16T10:55:15.772735Z",
     "start_time": "2025-01-16T10:55:15.762758Z"
    }
   },
   "outputs": [
    {
     "name": "stdout",
     "output_type": "stream",
     "text": [
      "{'annotation_type': 'CIRCLE', 'name': None, 'metadata': {'group': ['no_group']}, 'data': {'gene': {0: 'g1', 1: 'g2'}, 'expr': {0: 1.0, 1: 2.0}}, 'geom': 'POLYGON ((0 3, 1.414214 2.414214, 2 1, 1.414214 -0.414214, 0 -1, -1.414214 -0.414214, -2 1, -1.414214 2.414214, 0 3))', 'radius': 2, 'center': [0, 1]}\n"
     ]
    }
   ],
   "source": [
    "o = ann.Circle([0,1], 2,\n",
    "               data=pd.DataFrame({\n",
    "                   'gene': ['g1', 'g2'],\n",
    "                   'expr': [1, 2.0]\n",
    "               }))\n",
    "print(o.asdict())"
   ]
  },
  {
   "cell_type": "code",
   "execution_count": 8,
   "id": "de7d05c30f3dc8c9",
   "metadata": {
    "ExecuteTime": {
     "end_time": "2025-01-16T10:55:16.006847Z",
     "start_time": "2025-01-16T10:55:16.001085Z"
    }
   },
   "outputs": [
    {
     "data": {
      "text/plain": [
       "{'annotation_type': 'POINTSET',\n",
       " 'name': 'POINTS',\n",
       " 'metadata': {'group': ['no_group']},\n",
       " 'data': [],\n",
       " 'geom': 'MULTIPOINT (0 0)'}"
      ]
     },
     "execution_count": 8,
     "metadata": {},
     "output_type": "execute_result"
    }
   ],
   "source": [
    "a_pset.asdict()"
   ]
  },
  {
   "cell_type": "code",
   "execution_count": 9,
   "id": "852be0d4628a24",
   "metadata": {
    "ExecuteTime": {
     "end_time": "2025-01-16T10:55:16.197191Z",
     "start_time": "2025-01-16T10:55:16.193319Z"
    }
   },
   "outputs": [
    {
     "data": {
      "image/svg+xml": [
       "<svg xmlns=\"http://www.w3.org/2000/svg\" xmlns:xlink=\"http://www.w3.org/1999/xlink\" width=\"100.0\" height=\"100.0\" viewBox=\"-1.0 -1.0 2.0 2.0\" preserveAspectRatio=\"xMinYMin meet\"><g transform=\"matrix(1,0,0,-1,0,0.0)\"><g><circle cx=\"0.0\" cy=\"0.0\" r=\"0.06\" stroke=\"#555555\" stroke-width=\"0.02\" fill=\"#66cc99\" opacity=\"0.6\" /></g></g></svg>"
      ],
      "text/plain": [
       "<MULTIPOINT (0 0)>"
      ]
     },
     "execution_count": 9,
     "metadata": {},
     "output_type": "execute_result"
    }
   ],
   "source": [
    "d = a_pset.asdict()\n",
    "shg.MultiPoint([p for p in zip(a_pset.x, a_pset.y)])"
   ]
  },
  {
   "cell_type": "code",
   "execution_count": 10,
   "id": "fc17e5e5e4c97f4b",
   "metadata": {
    "ExecuteTime": {
     "end_time": "2025-01-16T10:55:16.381965Z",
     "start_time": "2025-01-16T10:55:16.377973Z"
    }
   },
   "outputs": [],
   "source": [
    "b_pset = ann.createEmptyAnnotationObject('POINTSET')\n",
    "b_pset.fromdict(a_pset.asdict())"
   ]
  },
  {
   "cell_type": "code",
   "execution_count": 11,
   "id": "a1543bda-584d-4717-999f-514e6cfa4d84",
   "metadata": {},
   "outputs": [
    {
     "data": {
      "text/plain": [
       "{'annotation_type': 'POINTSET',\n",
       " 'name': 'POINTS',\n",
       " 'metadata': {'group': ['no_group']},\n",
       " 'data': [],\n",
       " 'geom': 'MULTIPOINT (0 0)'}"
      ]
     },
     "execution_count": 11,
     "metadata": {},
     "output_type": "execute_result"
    }
   ],
   "source": [
    "b_pset.asdict()"
   ]
  },
  {
   "cell_type": "code",
   "execution_count": 12,
   "id": "c98cfc21a9ecffcd",
   "metadata": {
    "ExecuteTime": {
     "end_time": "2025-01-16T10:55:16.573242Z",
     "start_time": "2025-01-16T10:55:16.570101Z"
    }
   },
   "outputs": [],
   "source": [
    "A = ann.Annotation('wsi annot', {'width': 10, 'height': 15}, 0.25)"
   ]
  },
  {
   "cell_type": "code",
   "execution_count": 13,
   "id": "766cfe9ff1426ec0",
   "metadata": {
    "ExecuteTime": {
     "end_time": "2025-01-16T10:55:16.771223Z",
     "start_time": "2025-01-16T10:55:16.768904Z"
    }
   },
   "outputs": [],
   "source": [
    "A.add_annotation_object(a_dot)"
   ]
  },
  {
   "cell_type": "code",
   "execution_count": 14,
   "id": "96451e261f0631e6",
   "metadata": {
    "ExecuteTime": {
     "end_time": "2025-01-16T10:55:17.019655Z",
     "start_time": "2025-01-16T10:55:17.016891Z"
    }
   },
   "outputs": [],
   "source": [
    "A.add_annotations([a_pset, a_poly, a_circ], layer='some layer')"
   ]
  },
  {
   "cell_type": "code",
   "execution_count": 15,
   "id": "1ed36f95ba4394f5",
   "metadata": {
    "ExecuteTime": {
     "end_time": "2025-01-16T10:55:17.297225Z",
     "start_time": "2025-01-16T10:55:17.290616Z"
    }
   },
   "outputs": [
    {
     "data": {
      "text/plain": [
       "{'name': 'wsi annot',\n",
       " 'image_shape': {'width': 10, 'height': 15},\n",
       " 'mpp': 0.25,\n",
       " 'annotations': {'base': [{'annotation_type': 'DOT',\n",
       "    'name': 'DOT',\n",
       "    'metadata': {'group': ['no_group']},\n",
       "    'data': [],\n",
       "    'geom': 'POINT (0 0)'}],\n",
       "  'some layer': [{'annotation_type': 'POINTSET',\n",
       "    'name': 'POINTS',\n",
       "    'metadata': {'group': ['no_group']},\n",
       "    'data': [],\n",
       "    'geom': 'MULTIPOINT (0 0)'},\n",
       "   {'annotation_type': 'POLYGON',\n",
       "    'name': None,\n",
       "    'metadata': {'group': ['no_group']},\n",
       "    'data': [],\n",
       "    'geom': 'POLYGON ((0 0, 1 1, 2 2, 0 0))'},\n",
       "   {'annotation_type': 'CIRCLE',\n",
       "    'name': None,\n",
       "    'metadata': {'group': ['no_group']},\n",
       "    'data': [],\n",
       "    'geom': 'POLYGON ((0 1, 0.707107 0.707107, 1 0, 0.707107 -0.707107, 0 -1, -0.707107 -0.707107, -1 0, -0.707107 0.707107, 0 1))',\n",
       "    'radius': 1.0,\n",
       "    'center': [0.0, 0.0]}]}}"
      ]
     },
     "execution_count": 15,
     "metadata": {},
     "output_type": "execute_result"
    }
   ],
   "source": [
    "A.asdict()"
   ]
  },
  {
   "cell_type": "code",
   "execution_count": 16,
   "id": "6a422a530c87cace",
   "metadata": {
    "ExecuteTime": {
     "end_time": "2025-01-16T10:55:17.620318Z",
     "start_time": "2025-01-16T10:55:17.617711Z"
    }
   },
   "outputs": [],
   "source": [
    "A.add_annotation_object(o, layer='another layer')"
   ]
  },
  {
   "cell_type": "code",
   "execution_count": 17,
   "id": "80d4d59e1c5d6bc2",
   "metadata": {
    "ExecuteTime": {
     "end_time": "2025-01-16T10:55:17.898502Z",
     "start_time": "2025-01-16T10:55:17.891832Z"
    }
   },
   "outputs": [
    {
     "data": {
      "text/plain": [
       "{'name': 'wsi annot',\n",
       " 'image_shape': {'width': 10, 'height': 15},\n",
       " 'mpp': 0.25,\n",
       " 'annotations': {'base': [{'annotation_type': 'DOT',\n",
       "    'name': 'DOT',\n",
       "    'metadata': {'group': ['no_group']},\n",
       "    'data': [],\n",
       "    'geom': 'POINT (0 0)'}],\n",
       "  'some layer': [{'annotation_type': 'POINTSET',\n",
       "    'name': 'POINTS',\n",
       "    'metadata': {'group': ['no_group']},\n",
       "    'data': [],\n",
       "    'geom': 'MULTIPOINT (0 0)'},\n",
       "   {'annotation_type': 'POLYGON',\n",
       "    'name': None,\n",
       "    'metadata': {'group': ['no_group']},\n",
       "    'data': [],\n",
       "    'geom': 'POLYGON ((0 0, 1 1, 2 2, 0 0))'},\n",
       "   {'annotation_type': 'CIRCLE',\n",
       "    'name': None,\n",
       "    'metadata': {'group': ['no_group']},\n",
       "    'data': [],\n",
       "    'geom': 'POLYGON ((0 1, 0.707107 0.707107, 1 0, 0.707107 -0.707107, 0 -1, -0.707107 -0.707107, -1 0, -0.707107 0.707107, 0 1))',\n",
       "    'radius': 1.0,\n",
       "    'center': [0.0, 0.0]}],\n",
       "  'another layer': [{'annotation_type': 'CIRCLE',\n",
       "    'name': None,\n",
       "    'metadata': {'group': ['no_group']},\n",
       "    'data': {'gene': {0: 'g1', 1: 'g2'}, 'expr': {0: 1.0, 1: 2.0}},\n",
       "    'geom': 'POLYGON ((0 3, 1.414214 2.414214, 2 1, 1.414214 -0.414214, 0 -1, -1.414214 -0.414214, -2 1, -1.414214 2.414214, 0 3))',\n",
       "    'radius': 2,\n",
       "    'center': [0, 1]}]}}"
      ]
     },
     "execution_count": 17,
     "metadata": {},
     "output_type": "execute_result"
    }
   ],
   "source": [
    "A.asdict()"
   ]
  },
  {
   "cell_type": "code",
   "execution_count": 32,
   "id": "56fe6a16-f5a2-4b43-acd9-e1155aacc166",
   "metadata": {},
   "outputs": [],
   "source": [
    "import orjson as json\n",
    "from pathlib import Path\n",
    "import zipfile as zip"
   ]
  },
  {
   "cell_type": "code",
   "execution_count": 41,
   "id": "32d6ce6a-d13f-421f-a651-3caadef3c624",
   "metadata": {},
   "outputs": [],
   "source": [
    "with zip.ZipFile(\"./test_01_annot.dbz\", mode=\"w\", compression=zip.ZIP_LZMA, compresslevel=9) as zf:\n",
    "    with zf.open(\"annot_01.json\", \"w\") as db:\n",
    "        db.write(\n",
    "            json.dumps(\n",
    "                A.asdict(),\n",
    "                option=json.OPT_NON_STR_KEYS | json.OPT_INDENT_2\n",
    "            ))\n",
    "    zf.testzip()"
   ]
  },
  {
   "cell_type": "code",
   "execution_count": 28,
   "id": "cc69ce19-e371-4652-84a6-efd14e3c4e7b",
   "metadata": {},
   "outputs": [],
   "source": [
    "B = ann.Annotation()"
   ]
  },
  {
   "cell_type": "code",
   "execution_count": 43,
   "id": "ae72bc9fb9f96acc",
   "metadata": {
    "ExecuteTime": {
     "end_time": "2025-01-16T10:55:18.411588Z",
     "start_time": "2025-01-16T10:55:18.409023Z"
    }
   },
   "outputs": [],
   "source": [
    "with zip.ZipFile(\"./test_01_annot.dbz\", mode=\"r\") as zf:\n",
    "    zf.testzip()\n",
    "    with zf.open(\"annot_01.json\", \"r\") as db:\n",
    "        B.fromdict(\n",
    "            json.loads(db.read())\n",
    "        )"
   ]
  },
  {
   "cell_type": "code",
   "execution_count": 44,
   "id": "d60ffd77dfe660a1",
   "metadata": {
    "ExecuteTime": {
     "end_time": "2025-01-16T10:55:20.034248Z",
     "start_time": "2025-01-16T10:55:20.027734Z"
    }
   },
   "outputs": [
    {
     "data": {
      "text/plain": [
       "{'name': 'wsi annot',\n",
       " 'image_shape': {'width': 10, 'height': 15},\n",
       " 'mpp': 0.25,\n",
       " 'annotations': {'base': [{'annotation_type': 'DOT',\n",
       "    'name': 'DOT',\n",
       "    'metadata': {'group': ['no_group']},\n",
       "    'data': [],\n",
       "    'geom': 'POINT (0 0)'}],\n",
       "  'some layer': [{'annotation_type': 'POINTSET',\n",
       "    'name': 'POINTS',\n",
       "    'metadata': {'group': ['no_group']},\n",
       "    'data': [],\n",
       "    'geom': 'MULTIPOINT (0 0)'},\n",
       "   {'annotation_type': 'POLYGON',\n",
       "    'name': None,\n",
       "    'metadata': {'group': ['no_group']},\n",
       "    'data': [],\n",
       "    'geom': 'POLYGON ((0 0, 1 1, 2 2, 0 0))'},\n",
       "   {'annotation_type': 'CIRCLE',\n",
       "    'name': None,\n",
       "    'metadata': {'group': ['no_group']},\n",
       "    'data': [],\n",
       "    'geom': 'POLYGON ((0 1, 0.707107 0.707107, 1 0, 0.707107 -0.707107, 0 -1, -0.707107 -0.707107, -1 0, -0.707107 0.707107, 0 1))',\n",
       "    'radius': 1.0,\n",
       "    'center': [0.0, 0.0]}],\n",
       "  'another layer': [{'annotation_type': 'CIRCLE',\n",
       "    'name': None,\n",
       "    'metadata': {'group': ['no_group']},\n",
       "    'data': {'gene': {'0': 'g1', '1': 'g2'}, 'expr': {'0': 1.0, '1': 2.0}},\n",
       "    'geom': 'POLYGON ((0 3, 1.414214 2.414214, 2 1, 1.414214 -0.414214, 0 -1, -1.414214 -0.414214, -2 1, -1.414214 2.414214, 0 3))',\n",
       "    'radius': 2,\n",
       "    'center': [0, 1]}]}}"
      ]
     },
     "execution_count": 44,
     "metadata": {},
     "output_type": "execute_result"
    }
   ],
   "source": [
    "B.asdict()"
   ]
  },
  {
   "cell_type": "code",
   "execution_count": null,
   "id": "acf786f07594431c",
   "metadata": {},
   "outputs": [],
   "source": []
  }
 ],
 "metadata": {
  "kernelspec": {
   "display_name": "Python 3 (ipykernel)",
   "language": "python",
   "name": "python3"
  },
  "language_info": {
   "codemirror_mode": {
    "name": "ipython",
    "version": 3
   },
   "file_extension": ".py",
   "mimetype": "text/x-python",
   "name": "python",
   "nbconvert_exporter": "python",
   "pygments_lexer": "ipython3",
   "version": "3.12.7"
  }
 },
 "nbformat": 4,
 "nbformat_minor": 5
}
