{
 "cells": [
  {
   "metadata": {},
   "cell_type": "markdown",
   "source": [
    "Tests for Annotation module\n",
    "---"
   ],
   "id": "16d82f4e7ce4e6c0"
  },
  {
   "metadata": {
    "ExecuteTime": {
     "end_time": "2025-01-16T10:55:14.843622Z",
     "start_time": "2025-01-16T10:55:14.486031Z"
    }
   },
   "cell_type": "code",
   "source": [
    "import wsitk_annot as ann\n",
    "import pandas as pd\n",
    "import numpy as np\n",
    "import shapely.geometry as shg\n",
    "\n",
    "from wsitk_annot import Annotation"
   ],
   "id": "f6294d62cd2c4277",
   "outputs": [],
   "execution_count": 1
  },
  {
   "metadata": {
    "ExecuteTime": {
     "end_time": "2025-01-16T10:55:14.853740Z",
     "start_time": "2025-01-16T10:55:14.850079Z"
    }
   },
   "cell_type": "code",
   "source": [
    "a_dot = ann.createEmptyAnnotationObject('DOT')\n",
    "a_pset = ann.createEmptyAnnotationObject('POINTSET')\n",
    "a_pline = ann.createEmptyAnnotationObject('POLYLINE')\n",
    "a_poly = ann.createEmptyAnnotationObject('POLYGON')\n",
    "a_circ = ann.createEmptyAnnotationObject('CIRCLE')"
   ],
   "id": "6ed71355bea27199",
   "outputs": [],
   "execution_count": 2
  },
  {
   "metadata": {
    "ExecuteTime": {
     "end_time": "2025-01-16T10:55:15.004362Z",
     "start_time": "2025-01-16T10:55:14.999600Z"
    }
   },
   "cell_type": "code",
   "source": "a_dot.asdict()",
   "id": "6929ecf0828b8001",
   "outputs": [
    {
     "data": {
      "text/plain": [
       "{'annotation_type': 'DOT',\n",
       " 'name': 'DOT',\n",
       " 'x': array([0.]),\n",
       " 'y': array([0.]),\n",
       " 'metadata': {'group': ['no_group']},\n",
       " 'data': []}"
      ]
     },
     "execution_count": 3,
     "metadata": {},
     "output_type": "execute_result"
    }
   ],
   "execution_count": 3
  },
  {
   "metadata": {
    "ExecuteTime": {
     "end_time": "2025-01-16T10:55:15.049945Z",
     "start_time": "2025-01-16T10:55:15.046286Z"
    }
   },
   "cell_type": "code",
   "source": "a_pset.x",
   "id": "bd50e5c237358297",
   "outputs": [
    {
     "data": {
      "text/plain": [
       "array([0.])"
      ]
     },
     "execution_count": 4,
     "metadata": {},
     "output_type": "execute_result"
    }
   ],
   "execution_count": 4
  },
  {
   "metadata": {
    "ExecuteTime": {
     "end_time": "2025-01-16T10:55:15.271019Z",
     "start_time": "2025-01-16T10:55:15.266977Z"
    }
   },
   "cell_type": "code",
   "source": [
    "o = ann.Dot((10, 20.5), \"another_dot\", ['some group'])\n",
    "print(o.asdict())\n",
    "o.fromdict(a_dot.asdict())\n",
    "print(o.asdict())"
   ],
   "id": "87982bbc268fd77",
   "outputs": [
    {
     "name": "stdout",
     "output_type": "stream",
     "text": [
      "{'annotation_type': 'DOT', 'name': 'another_dot', 'x': array([10.]), 'y': array([20.5]), 'metadata': {'group': ['some group']}, 'data': []}\n",
      "{'annotation_type': 'DOT', 'name': 'DOT', 'x': array([0.]), 'y': array([0.]), 'metadata': {'group': ['no_group']}, 'data': []}\n"
     ]
    }
   ],
   "execution_count": 5
  },
  {
   "metadata": {
    "ExecuteTime": {
     "end_time": "2025-01-16T10:55:15.503988Z",
     "start_time": "2025-01-16T10:55:15.497835Z"
    }
   },
   "cell_type": "code",
   "source": [
    "o = ann.Polygon([[0, 1.5], [2.5, 3.0], [4, 6], [0, 1.5]], \"poly\")\n",
    "print(o.asdict())\n",
    "print(o.asGeoJSON())\n",
    "o.fromdict(a_poly.asdict())\n",
    "print(o.asdict())"
   ],
   "id": "a7d4fc1e4a1dd522",
   "outputs": [
    {
     "name": "stdout",
     "output_type": "stream",
     "text": [
      "{'annotation_type': 'POLYGON', 'name': 'poly', 'x': array([0. , 2.5, 4. , 0. ]), 'y': array([1.5, 3. , 6. , 1.5]), 'metadata': {'group': ['no_group']}, 'data': []}\n",
      "{\"geometry\": {\"coordinates\": [[[0.0, 1.5], [2.5, 3.0], [4.0, 6.0], [0.0, 1.5]]], \"type\": \"Polygon\"}, \"properties\": {\"annotation_type\": \"POLYGON\", \"data\": [], \"metadata\": {\"group\": [\"no_group\"]}, \"name\": \"poly\", \"object_type\": \"annotation\"}, \"type\": \"Feature\"}\n",
      "{'annotation_type': 'POLYGON', 'name': None, 'x': array([0., 1., 2., 0.]), 'y': array([0., 1., 2., 0.]), 'metadata': {'group': ['no_group']}, 'data': []}\n"
     ]
    }
   ],
   "execution_count": 6
  },
  {
   "metadata": {
    "ExecuteTime": {
     "end_time": "2025-01-16T10:55:15.772735Z",
     "start_time": "2025-01-16T10:55:15.762758Z"
    }
   },
   "cell_type": "code",
   "source": [
    "o = ann.Circle([0,1], 2,\n",
    "               data=pd.DataFrame({\n",
    "                   'gene': ['g1', 'g2'],\n",
    "                   'expr': [1, 2.0]\n",
    "               }))\n",
    "print(o.asdict())"
   ],
   "id": "3d8a03a5efa7359b",
   "outputs": [
    {
     "name": "stdout",
     "output_type": "stream",
     "text": [
      "{'annotation_type': 'CIRCLE', 'name': None, 'x': array([ 0.00000000e+00,  1.41421356e+00,  2.00000000e+00,  1.41421356e+00,\n",
      "        2.44929360e-16, -1.41421356e+00, -2.00000000e+00, -1.41421356e+00,\n",
      "        0.00000000e+00]), 'y': array([ 3.        ,  2.41421356,  1.        , -0.41421356, -1.        ,\n",
      "       -0.41421356,  1.        ,  2.41421356,  3.        ]), 'metadata': {'group': ['no_group']}, 'data': {'gene': {0: 'g1', 1: 'g2'}, 'expr': {0: 1.0, 1: 2.0}}}\n"
     ]
    }
   ],
   "execution_count": 7
  },
  {
   "metadata": {
    "ExecuteTime": {
     "end_time": "2025-01-16T10:55:16.006847Z",
     "start_time": "2025-01-16T10:55:16.001085Z"
    }
   },
   "cell_type": "code",
   "source": "a_pset.asdict()",
   "id": "de7d05c30f3dc8c9",
   "outputs": [
    {
     "data": {
      "text/plain": [
       "{'annotation_type': 'POINTSET',\n",
       " 'name': 'POINTS',\n",
       " 'x': array([0.]),\n",
       " 'y': array([0.]),\n",
       " 'metadata': {'group': ['no_group']},\n",
       " 'data': []}"
      ]
     },
     "execution_count": 8,
     "metadata": {},
     "output_type": "execute_result"
    }
   ],
   "execution_count": 8
  },
  {
   "metadata": {
    "ExecuteTime": {
     "end_time": "2025-01-16T10:55:16.197191Z",
     "start_time": "2025-01-16T10:55:16.193319Z"
    }
   },
   "cell_type": "code",
   "source": [
    "d = a_pset.asdict()\n",
    "shg.MultiPoint([p for p in zip(a_pset.x, a_pset.y)])"
   ],
   "id": "852be0d4628a24",
   "outputs": [
    {
     "data": {
      "text/plain": [
       "<MULTIPOINT (0 0)>"
      ],
      "image/svg+xml": "<svg xmlns=\"http://www.w3.org/2000/svg\" xmlns:xlink=\"http://www.w3.org/1999/xlink\" width=\"100.0\" height=\"100.0\" viewBox=\"-1.0 -1.0 2.0 2.0\" preserveAspectRatio=\"xMinYMin meet\"><g transform=\"matrix(1,0,0,-1,0,0.0)\"><g><circle cx=\"0.0\" cy=\"0.0\" r=\"0.06\" stroke=\"#555555\" stroke-width=\"0.02\" fill=\"#66cc99\" opacity=\"0.6\" /></g></g></svg>"
     },
     "execution_count": 9,
     "metadata": {},
     "output_type": "execute_result"
    }
   ],
   "execution_count": 9
  },
  {
   "metadata": {
    "ExecuteTime": {
     "end_time": "2025-01-16T10:55:16.381965Z",
     "start_time": "2025-01-16T10:55:16.377973Z"
    }
   },
   "cell_type": "code",
   "source": [
    "b_pset = ann.createEmptyAnnotationObject('POINTSET')\n",
    "b_pset.fromdict(a_pset.asdict())"
   ],
   "id": "fc17e5e5e4c97f4b",
   "outputs": [],
   "execution_count": 10
  },
  {
   "metadata": {
    "ExecuteTime": {
     "end_time": "2025-01-16T10:55:16.573242Z",
     "start_time": "2025-01-16T10:55:16.570101Z"
    }
   },
   "cell_type": "code",
   "source": "A = ann.Annotation('wsi annot', {'width': 10, 'height': 15}, 0.25)",
   "id": "c98cfc21a9ecffcd",
   "outputs": [],
   "execution_count": 11
  },
  {
   "metadata": {
    "ExecuteTime": {
     "end_time": "2025-01-16T10:55:16.771223Z",
     "start_time": "2025-01-16T10:55:16.768904Z"
    }
   },
   "cell_type": "code",
   "source": "A.add_annotation_object(a_dot)",
   "id": "766cfe9ff1426ec0",
   "outputs": [],
   "execution_count": 12
  },
  {
   "metadata": {
    "ExecuteTime": {
     "end_time": "2025-01-16T10:55:17.019655Z",
     "start_time": "2025-01-16T10:55:17.016891Z"
    }
   },
   "cell_type": "code",
   "source": "A.add_annotations([a_pset, a_poly, a_circ], layer='some layer')",
   "id": "96451e261f0631e6",
   "outputs": [],
   "execution_count": 13
  },
  {
   "metadata": {
    "ExecuteTime": {
     "end_time": "2025-01-16T10:55:17.297225Z",
     "start_time": "2025-01-16T10:55:17.290616Z"
    }
   },
   "cell_type": "code",
   "source": "A.asdict()",
   "id": "1ed36f95ba4394f5",
   "outputs": [
    {
     "data": {
      "text/plain": [
       "{'name': 'wsi annot',\n",
       " 'image_shape': {'width': 10, 'height': 15},\n",
       " 'mpp': 0.25,\n",
       " 'annotations': {'base': [{'annotation_type': 'DOT',\n",
       "    'name': 'DOT',\n",
       "    'x': array([0.]),\n",
       "    'y': array([0.]),\n",
       "    'metadata': {'group': ['no_group']},\n",
       "    'data': []}],\n",
       "  'some layer': [{'annotation_type': 'POINTSET',\n",
       "    'name': 'POINTS',\n",
       "    'x': array([0.]),\n",
       "    'y': array([0.]),\n",
       "    'metadata': {'group': ['no_group']},\n",
       "    'data': []},\n",
       "   {'annotation_type': 'POLYGON',\n",
       "    'name': None,\n",
       "    'x': array([0., 1., 2., 0.]),\n",
       "    'y': array([0., 1., 2., 0.]),\n",
       "    'metadata': {'group': ['no_group']},\n",
       "    'data': []},\n",
       "   {'annotation_type': 'CIRCLE',\n",
       "    'name': None,\n",
       "    'x': array([ 0.00000000e+00,  7.07106781e-01,  1.00000000e+00,  7.07106781e-01,\n",
       "            1.22464680e-16, -7.07106781e-01, -1.00000000e+00, -7.07106781e-01,\n",
       "            0.00000000e+00]),\n",
       "    'y': array([ 1.00000000e+00,  7.07106781e-01,  6.12323400e-17, -7.07106781e-01,\n",
       "           -1.00000000e+00, -7.07106781e-01, -1.83697020e-16,  7.07106781e-01,\n",
       "            1.00000000e+00]),\n",
       "    'metadata': {'group': ['no_group']},\n",
       "    'data': []}]}}"
      ]
     },
     "execution_count": 14,
     "metadata": {},
     "output_type": "execute_result"
    }
   ],
   "execution_count": 14
  },
  {
   "metadata": {
    "ExecuteTime": {
     "end_time": "2025-01-16T10:55:17.620318Z",
     "start_time": "2025-01-16T10:55:17.617711Z"
    }
   },
   "cell_type": "code",
   "source": "A.add_annotation_object(o, layer='another layer')",
   "id": "6a422a530c87cace",
   "outputs": [],
   "execution_count": 15
  },
  {
   "metadata": {
    "ExecuteTime": {
     "end_time": "2025-01-16T10:55:17.898502Z",
     "start_time": "2025-01-16T10:55:17.891832Z"
    }
   },
   "cell_type": "code",
   "source": "A.asdict()",
   "id": "80d4d59e1c5d6bc2",
   "outputs": [
    {
     "data": {
      "text/plain": [
       "{'name': 'wsi annot',\n",
       " 'image_shape': {'width': 10, 'height': 15},\n",
       " 'mpp': 0.25,\n",
       " 'annotations': {'base': [{'annotation_type': 'DOT',\n",
       "    'name': 'DOT',\n",
       "    'x': array([0.]),\n",
       "    'y': array([0.]),\n",
       "    'metadata': {'group': ['no_group']},\n",
       "    'data': []}],\n",
       "  'some layer': [{'annotation_type': 'POINTSET',\n",
       "    'name': 'POINTS',\n",
       "    'x': array([0.]),\n",
       "    'y': array([0.]),\n",
       "    'metadata': {'group': ['no_group']},\n",
       "    'data': []},\n",
       "   {'annotation_type': 'POLYGON',\n",
       "    'name': None,\n",
       "    'x': array([0., 1., 2., 0.]),\n",
       "    'y': array([0., 1., 2., 0.]),\n",
       "    'metadata': {'group': ['no_group']},\n",
       "    'data': []},\n",
       "   {'annotation_type': 'CIRCLE',\n",
       "    'name': None,\n",
       "    'x': array([ 0.00000000e+00,  7.07106781e-01,  1.00000000e+00,  7.07106781e-01,\n",
       "            1.22464680e-16, -7.07106781e-01, -1.00000000e+00, -7.07106781e-01,\n",
       "            0.00000000e+00]),\n",
       "    'y': array([ 1.00000000e+00,  7.07106781e-01,  6.12323400e-17, -7.07106781e-01,\n",
       "           -1.00000000e+00, -7.07106781e-01, -1.83697020e-16,  7.07106781e-01,\n",
       "            1.00000000e+00]),\n",
       "    'metadata': {'group': ['no_group']},\n",
       "    'data': []}],\n",
       "  'another layer': [{'annotation_type': 'CIRCLE',\n",
       "    'name': None,\n",
       "    'x': array([ 0.00000000e+00,  1.41421356e+00,  2.00000000e+00,  1.41421356e+00,\n",
       "            2.44929360e-16, -1.41421356e+00, -2.00000000e+00, -1.41421356e+00,\n",
       "            0.00000000e+00]),\n",
       "    'y': array([ 3.        ,  2.41421356,  1.        , -0.41421356, -1.        ,\n",
       "           -0.41421356,  1.        ,  2.41421356,  3.        ]),\n",
       "    'metadata': {'group': ['no_group']},\n",
       "    'data': {'gene': {0: 'g1', 1: 'g2'}, 'expr': {0: 1.0, 1: 2.0}}}]}}"
      ]
     },
     "execution_count": 16,
     "metadata": {},
     "output_type": "execute_result"
    }
   ],
   "execution_count": 16
  },
  {
   "metadata": {
    "ExecuteTime": {
     "end_time": "2025-01-16T10:55:18.115917Z",
     "start_time": "2025-01-16T10:55:18.104849Z"
    }
   },
   "cell_type": "code",
   "source": "A.save(\"./test_01_annot.bin\")",
   "id": "769263d326aa880",
   "outputs": [],
   "execution_count": 17
  },
  {
   "metadata": {
    "ExecuteTime": {
     "end_time": "2025-01-16T10:55:18.411588Z",
     "start_time": "2025-01-16T10:55:18.409023Z"
    }
   },
   "cell_type": "code",
   "source": "B = ann.Annotation('', {'width': 0, 'height': 0}, 0.)",
   "id": "ae72bc9fb9f96acc",
   "outputs": [],
   "execution_count": 18
  },
  {
   "metadata": {
    "ExecuteTime": {
     "end_time": "2025-01-16T10:55:18.986533Z",
     "start_time": "2025-01-16T10:55:18.977095Z"
    }
   },
   "cell_type": "code",
   "source": "B.load(\"./test_01_annot.bin\")",
   "id": "c8c987f00c98a41c",
   "outputs": [],
   "execution_count": 19
  },
  {
   "metadata": {
    "ExecuteTime": {
     "end_time": "2025-01-16T10:55:20.034248Z",
     "start_time": "2025-01-16T10:55:20.027734Z"
    }
   },
   "cell_type": "code",
   "source": "B.asdict()",
   "id": "d60ffd77dfe660a1",
   "outputs": [
    {
     "data": {
      "text/plain": [
       "{'name': 'wsi annot',\n",
       " 'image_shape': {'width': 10, 'height': 15},\n",
       " 'mpp': 0.25,\n",
       " 'annotations': {'another layer': [{'annotation_type': 'CIRCLE',\n",
       "    'name': None,\n",
       "    'x': array([ 0.00000000e+00,  1.41421356e+00,  2.00000000e+00,  1.41421356e+00,\n",
       "            2.44929360e-16, -1.41421356e+00, -2.00000000e+00, -1.41421356e+00,\n",
       "            0.00000000e+00]),\n",
       "    'y': array([ 3.        ,  2.41421356,  1.        , -0.41421356, -1.        ,\n",
       "           -0.41421356,  1.        ,  2.41421356,  3.        ]),\n",
       "    'metadata': {'group': ['no_group']},\n",
       "    'data': {'gene': {0: 'g1', 1: 'g2'}, 'expr': {0: 1.0, 1: 2.0}}}],\n",
       "  'some layer': [{'annotation_type': 'POINTSET',\n",
       "    'name': 'POINTS',\n",
       "    'x': array([0.]),\n",
       "    'y': array([0.]),\n",
       "    'metadata': {'group': ['no_group']},\n",
       "    'data': []},\n",
       "   {'annotation_type': 'POLYGON',\n",
       "    'name': None,\n",
       "    'x': array([0., 1., 2., 0.]),\n",
       "    'y': array([0., 1., 2., 0.]),\n",
       "    'metadata': {'group': ['no_group']},\n",
       "    'data': []},\n",
       "   {'annotation_type': 'CIRCLE',\n",
       "    'name': None,\n",
       "    'x': array([ 0.00000000e+00,  7.07106781e-01,  1.00000000e+00,  7.07106781e-01,\n",
       "            1.22464680e-16, -7.07106781e-01, -1.00000000e+00, -7.07106781e-01,\n",
       "            0.00000000e+00]),\n",
       "    'y': array([ 1.00000000e+00,  7.07106781e-01,  6.12323400e-17, -7.07106781e-01,\n",
       "           -1.00000000e+00, -7.07106781e-01, -1.83697020e-16,  7.07106781e-01,\n",
       "            1.00000000e+00]),\n",
       "    'metadata': {'group': ['no_group']},\n",
       "    'data': []}],\n",
       "  'base': [{'annotation_type': 'DOT',\n",
       "    'name': 'DOT',\n",
       "    'x': array([0.]),\n",
       "    'y': array([0.]),\n",
       "    'metadata': {'group': ['no_group']},\n",
       "    'data': []}]}}"
      ]
     },
     "execution_count": 20,
     "metadata": {},
     "output_type": "execute_result"
    }
   ],
   "execution_count": 20
  },
  {
   "metadata": {},
   "cell_type": "code",
   "outputs": [],
   "execution_count": null,
   "source": "",
   "id": "acf786f07594431c"
  }
 ],
 "metadata": {
  "kernelspec": {
   "display_name": "Python 3",
   "language": "python",
   "name": "python3"
  },
  "language_info": {
   "codemirror_mode": {
    "name": "ipython",
    "version": 2
   },
   "file_extension": ".py",
   "mimetype": "text/x-python",
   "name": "python",
   "nbconvert_exporter": "python",
   "pygments_lexer": "ipython2",
   "version": "2.7.6"
  }
 },
 "nbformat": 4,
 "nbformat_minor": 5
}
